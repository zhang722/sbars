{
 "cells": [
  {
   "cell_type": "code",
   "execution_count": 1,
   "id": "648c67c4",
   "metadata": {},
   "outputs": [],
   "source": [
    "import sympy as sp"
   ]
  },
  {
   "cell_type": "markdown",
   "id": "642321d8",
   "metadata": {},
   "source": [
    "假设有n=4个3D点，m=2个相机坐标,则残差为：\n",
    "$$\\mathbf{X} = \\begin{pmatrix}\n",
    "\\mathbf{x}_{11}^T  &\\mathbf{x}_{21}^T  &\\mathbf{x}_{31}^T  &\\mathbf{x}_{41}^T &\n",
    "\\mathbf{x}_{12}^T  &\\mathbf{x}_{22}^T  &\\mathbf{x}_{32}^T  &\\mathbf{x}_{42}^T\n",
    "\\end{pmatrix}^T$$\n",
    "待优化参数为：\n",
    "$$\\mathbf{P} = \\begin{pmatrix}\n",
    "\\mathbf{a}_{1}^T  &\\mathbf{a}_{2}^T  &\\mathbf{b}_{1}^T  &\\mathbf{b}_{2}^T &\n",
    "\\mathbf{b}_{3}^T  &\\mathbf{b}_{4}^T\n",
    "\\end{pmatrix}^T$$"
   ]
  },
  {
   "cell_type": "markdown",
   "id": "45a82310",
   "metadata": {},
   "source": [
    "则$\\mathbf{J}=\\frac{\\partial \\mathbf{X}}{\\partial \\mathbf{P}} =$"
   ]
  }
 ],
 "metadata": {
  "kernelspec": {
   "display_name": "Python 3 (ipykernel)",
   "language": "python",
   "name": "python3"
  },
  "language_info": {
   "codemirror_mode": {
    "name": "ipython",
    "version": 3
   },
   "file_extension": ".py",
   "mimetype": "text/x-python",
   "name": "python",
   "nbconvert_exporter": "python",
   "pygments_lexer": "ipython3",
   "version": "3.9.15"
  }
 },
 "nbformat": 4,
 "nbformat_minor": 5
}
