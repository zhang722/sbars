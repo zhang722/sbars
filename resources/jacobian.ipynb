{
 "cells": [
  {
   "cell_type": "code",
   "execution_count": 1,
   "id": "89dd1ad6",
   "metadata": {},
   "outputs": [],
   "source": [
    "import sympy as sp"
   ]
  },
  {
   "cell_type": "markdown",
   "id": "8262c5ee",
   "metadata": {},
   "source": [
    "## 坐标及参数定义\n",
    "相机内参矩阵：\n",
    "$$\\mathbf{K} = \\begin{bmatrix} \\alpha_x & 0 & x_0 \\\\ 0 & \\alpha_y & y_0 \\\\ 0 & 0 & 1\\end{bmatrix}$$\n",
    "定义归一化平面坐标$\\mathbf{p}_n$、考虑畸变的归一化坐标$\\mathbf{p}^d_n$和场景坐标（即相机坐标系下的坐标）$\\mathbf{p}_s$，且有：\n",
    "$$\\mathbf{p}_n = \\begin{bmatrix} x_n\\\\ y_n\\\\ 1\\end{bmatrix}= \\frac{1}{z_s}\\mathbf{p}_s= \\frac{1}{z_s}\\begin{bmatrix}x_s \\\\y_s \\\\z_s\\end{bmatrix}$$\n",
    "$$\\mathbf{p}^d_n = \\begin{bmatrix}\n",
    "x_n(1 + k_1 r^2_n + k_2 r^4_n) + 2 p_1 x_n y_n + p_2 (r^2_n + 2 x^2_n) \\\\\n",
    "y_n(1 + k_1 r^2_n + k_2 r^4_n) + p_1(r^2_n + 2 y^2_n) + 2p_2 x_n y_n \\\\\n",
    "1\n",
    "\\end{bmatrix}$$\n",
    "对畸变过程，记为：\n",
    "$$\\mathbf{p}^d_n = D(\\mathbf{p}_n)$$\n",
    "定义世界坐标$\\mathbf{p}_w$，有：\n",
    "$$\\mathbf{p}_s =\n",
    "\\mathbf{T}_{sw} \\mathbf{p}_w$$\n",
    "且：\n",
    "$$\\begin{align}\\mathbf{T}_{cw} & = \\mathrm{Exp}(\\xi) \\\\\\xi &= \\begin{bmatrix}\\rho   \\\\\\phi\\end{bmatrix}\\end{align}$$\n",
    "$\\rho$代表平移、$\\phi$代表旋转。\n",
    "\n",
    "定义像素坐标$\\mathbf{p}_p$和考虑畸变的像素坐标$\\mathbf{p}^d_p$，且有：\n",
    "$$\\mathbf{p}^d_p =\n",
    "\\mathbf{K} \\mathbf{p}^d_n$$\n",
    "为了方便，若$\\mathbf{p}$是齐次坐标，则求导的时候记$\\mathbf{p}$为非齐次坐标，例如：\n",
    "$$\\mathbf{p}^d_n = \\begin{bmatrix}x_n^p \\\\y_n^p\\end{bmatrix},\\mathbf{p}^d_p = \\begin{bmatrix}x_p^p \\\\y_p^p\\end{bmatrix}$$\n",
    "## 优化问题\n",
    "我们想通过非线性优化调整每幅图像与相机的相对位姿$\\xi$、3D点的世界坐标$\\mathbf{P}_{w}$。\n",
    "记$\\mathbf{m} = \\begin{bmatrix}\n",
    "u_{obs} \\\\\n",
    "v_{obs}\n",
    "\\end{bmatrix}$为实际测量到的像素坐标，$\\mathbf{r}$为残差，有：\n",
    "$$\\mathbf{r} =\\mathbf{p}^d_p - \\mathbf{m} =  \\begin{bmatrix} x^d_p - u_{obs}\\\\y^d_p - v_{obs}\\end{bmatrix}$$\n",
    "为了优化这些参数，我们需要推导残差对参数的雅克比矩阵$\\frac{\\partial \\mathbf{r}}{\\partial \\mathbf{\\xi}} $、$\\frac{\\partial \\mathbf{r}}{\\partial \\mathbf{P}_{w}}$。"
   ]
  },
  {
   "cell_type": "code",
   "execution_count": 19,
   "id": "214a20ee",
   "metadata": {},
   "outputs": [
    {
     "data": {
      "text/latex": [
       "$\\displaystyle \\left[\\begin{matrix}\\alpha_{x} & 0 & x_{0}\\\\0 & \\alpha_{y} & y_{0}\\\\0 & 0 & 1\\end{matrix}\\right]$"
      ],
      "text/plain": [
       "Matrix([\n",
       "[alpha_x,       0, x_0],\n",
       "[      0, alpha_y, y_0],\n",
       "[      0,       0,   1]])"
      ]
     },
     "metadata": {},
     "output_type": "display_data"
    },
    {
     "data": {
      "text/latex": [
       "$\\displaystyle \\left[\\begin{matrix}x_{n}\\\\y_{n}\\\\1\\end{matrix}\\right]$"
      ],
      "text/plain": [
       "Matrix([\n",
       "[x_n],\n",
       "[y_n],\n",
       "[  1]])"
      ]
     },
     "metadata": {},
     "output_type": "display_data"
    },
    {
     "data": {
      "text/latex": [
       "$\\displaystyle \\left[\\begin{matrix}x^{d}_{n}\\\\y^{d}_{n}\\\\1\\end{matrix}\\right]$"
      ],
      "text/plain": [
       "Matrix([\n",
       "[x_n^d],\n",
       "[y_n^d],\n",
       "[    1]])"
      ]
     },
     "metadata": {},
     "output_type": "display_data"
    }
   ],
   "source": [
    "alpha_x, alpha_y, x0, y0 = sp.symbols('alpha_x, alpha_y, x_0, y_0')\n",
    "k1, k2, p1, p2 = sp.symbols('k1, k2, p1, p2')\n",
    "xn, yn, rn, pn = sp.symbols('x_n, y_n, r_n, p_n')\n",
    "xdn, ydn, pdn = sp.symbols('x_n^d, y_n^d, p_n^d')\n",
    "K = sp.Matrix([[alpha_x, 0, x0], [0, alpha_y, y0], [0, 0, 1]])\n",
    "pn = sp.Matrix([[xn], [yn], [1]])\n",
    "pdn = sp.Matrix([[xdn], [ydn], [1]])\n",
    "display(K, pn, pdn)"
   ]
  },
  {
   "cell_type": "code",
   "execution_count": 20,
   "id": "12df342c",
   "metadata": {},
   "outputs": [
    {
     "data": {
      "text/latex": [
       "$\\displaystyle \\left[\\begin{matrix}2 p_{1} x_{n} y_{n} + p_{2} \\left(r_{n}^{2} + 2 x_{n}^{2}\\right) + x_{n} \\left(k_{1} r_{n}^{2} + k_{2} r_{n}^{4} + 1\\right) & 0 & 1 & 0 & \\alpha_{x} r_{n}^{2} x_{n} & \\alpha_{x} r_{n}^{4} x_{n} & 2 \\alpha_{x} x_{n} y_{n} & \\alpha_{x} \\left(r_{n}^{2} + 2 x_{n}^{2}\\right)\\\\0 & p_{1} \\left(r_{n}^{2} + 2 y_{n}^{2}\\right) + 2 p_{2} x_{n} y_{n} + y_{n} \\left(k_{1} r_{n}^{2} + k_{2} r_{n}^{4} + 1\\right) & 0 & 1 & \\alpha_{y} r_{n}^{2} y_{n} & \\alpha_{y} r_{n}^{4} y_{n} & \\alpha_{y} \\left(r_{n}^{2} + 2 y_{n}^{2}\\right) & 2 \\alpha_{y} x_{n} y_{n}\\end{matrix}\\right]$"
      ],
      "text/plain": [
       "Matrix([\n",
       "[2*p1*x_n*y_n + p2*(r_n**2 + 2*x_n**2) + x_n*(k1*r_n**2 + k2*r_n**4 + 1),                                                                       0, 1, 0, alpha_x*r_n**2*x_n, alpha_x*r_n**4*x_n,           2*alpha_x*x_n*y_n, alpha_x*(r_n**2 + 2*x_n**2)],\n",
       "[                                                                      0, p1*(r_n**2 + 2*y_n**2) + 2*p2*x_n*y_n + y_n*(k1*r_n**2 + k2*r_n**4 + 1), 0, 1, alpha_y*r_n**2*y_n, alpha_y*r_n**4*y_n, alpha_y*(r_n**2 + 2*y_n**2),           2*alpha_y*x_n*y_n]])"
      ]
     },
     "execution_count": 20,
     "metadata": {},
     "output_type": "execute_result"
    }
   ],
   "source": [
    "xdn = xn * (1+k1*rn**2 + k2*rn**4) + 2*p1*xn*yn + p2*(rn**2 + 2*xn**2)\n",
    "ydn = yn * (1+k1*rn**2 + k2*rn**4) + p1*(rn**2 + 2*yn**2) + 2*p2*xn*yn\n",
    "pdn = sp.Matrix([[xdn], [ydn], [1]])\n",
    "pdp = K * pdn\n",
    "\n",
    "pdp.row_del(2)\n",
    "param_vector = sp.Matrix([[alpha_x], [alpha_y], [x0], [y0], [k1], [k2], [p1], [p2]])"
   ]
  },
  {
   "cell_type": "markdown",
   "id": "30c9c638",
   "metadata": {},
   "source": [
    "下面推导$\\frac{\\partial \\mathbf{r}}{\\partial \\mathbf{\\xi}}$\n",
    "由于：\n",
    "$$\\frac{\\partial \\mathbf{r}}{\\partial \\mathbf{\\xi}} =\\frac{\\partial \\mathbf{p}^d_p}{\\partial \\mathbf{p}_{n}} \\frac{\\partial \\mathbf{p}_n}{\\partial \\mathbf{p}_{s}} \\frac{\\partial \\mathbf{p}_s}{\\partial \\mathbf{\\xi}} $$\n",
    "\n",
    "故只需分别推导$\\frac{\\partial \\mathbf{p}^d_p}{\\partial \\mathbf{p}_{n}} $、\n",
    "$\\frac{\\partial \\mathbf{p}_n}{\\partial \\mathbf{p}_{s}} $、\n",
    "$\\frac{\\partial \\mathbf{p}_s}{\\partial \\mathbf{\\xi}} $"
   ]
  },
  {
   "cell_type": "code",
   "execution_count": 21,
   "id": "8097849d",
   "metadata": {},
   "outputs": [],
   "source": [
    "pn.row_del(2)"
   ]
  },
  {
   "cell_type": "code",
   "execution_count": 24,
   "id": "94d4c288",
   "metadata": {},
   "outputs": [
    {
     "data": {
      "text/latex": [
       "$\\displaystyle \\left[\\begin{matrix}\\alpha_{x} \\left(k_{1} r_{n}^{2} + k_{2} r_{n}^{4} + 2 p_{1} y_{n} + 4 p_{2} x_{n} + 1\\right) & 2 \\alpha_{x} p_{1} x_{n}\\\\2 \\alpha_{y} p_{2} y_{n} & \\alpha_{y} \\left(k_{1} r_{n}^{2} + k_{2} r_{n}^{4} + 4 p_{1} y_{n} + 2 p_{2} x_{n} + 1\\right)\\end{matrix}\\right]$"
      ],
      "text/plain": [
       "Matrix([\n",
       "[alpha_x*(k1*r_n**2 + k2*r_n**4 + 2*p1*y_n + 4*p2*x_n + 1),                                          2*alpha_x*p1*x_n],\n",
       "[                                         2*alpha_y*p2*y_n, alpha_y*(k1*r_n**2 + k2*r_n**4 + 4*p1*y_n + 2*p2*x_n + 1)]])"
      ]
     },
     "execution_count": 24,
     "metadata": {},
     "output_type": "execute_result"
    }
   ],
   "source": [
    "pdp.jacobian(pn)"
   ]
  },
  {
   "cell_type": "markdown",
   "id": "d36f86c2",
   "metadata": {},
   "source": [
    "故$$\\frac{\\partial \\mathbf{p}^d_p}{\\partial \\mathbf{p}_{n}} = \\left[\\begin{matrix}\\alpha_{x} \\left(k_{1} r_{n}^{2} + k_{2} r_{n}^{4} + 2 p_{1} y_{n} + 4 p_{2} x_{n} + 1\\right) & 2 \\alpha_{x} p_{1} x_{n}\\\\2 \\alpha_{y} p_{2} y_{n} & \\alpha_{y} \\left(k_{1} r_{n}^{2} + k_{2} r_{n}^{4} + 4 p_{1} y_{n} + 2 p_{2} x_{n} + 1\\right)\\end{matrix}\\right]$$"
   ]
  },
  {
   "cell_type": "code",
   "execution_count": 28,
   "id": "9f8a4110",
   "metadata": {},
   "outputs": [
    {
     "data": {
      "text/latex": [
       "$\\displaystyle \\left[\\begin{matrix}\\frac{1}{z_{s}} & 0 & - \\frac{x_{s}}{z_{s}^{2}}\\\\0 & \\frac{1}{z_{s}} & - \\frac{y_{s}}{z_{s}^{2}}\\end{matrix}\\right]$"
      ],
      "text/plain": [
       "Matrix([\n",
       "[1/z_s,     0, -x_s/z_s**2],\n",
       "[    0, 1/z_s, -y_s/z_s**2]])"
      ]
     },
     "execution_count": 28,
     "metadata": {},
     "output_type": "execute_result"
    }
   ],
   "source": [
    "xs, ys, zs, ps = sp.symbols('x_s, y_s, z_s, p_s')\n",
    "ps = sp.Matrix([[xs], [ys], [zs]])\n",
    "xn = xs / zs\n",
    "yn = ys / zs\n",
    "pn = sp.Matrix([[xn], [yn]])\n",
    "pn.jacobian(ps)"
   ]
  },
  {
   "cell_type": "markdown",
   "id": "5bedaf5a",
   "metadata": {},
   "source": [
    "故\n",
    "$$\\frac{\\partial \\mathbf{p}_n}{\\partial \\mathbf{p}_{s}} = \\left[\\begin{matrix}\\frac{1}{z_{s}} & 0 & - \\frac{x_{s}}{z_{s}^{2}}\\\\0 & \\frac{1}{z_{s}} & - \\frac{y_{s}}{z_{s}^{2}}\\end{matrix}\\right]$$\n",
    "对$\\frac{\\partial \\mathbf{p}_s}{\\partial \\mathbf{\\xi}}$的推导不能利用sympy完成，需要手动推导:\n",
    "\n",
    "$$\\begin{align} \\frac{\\partial \\mathbf{p}_s}{\\partial \\delta \\xi} &= \\frac{\\partial(\\mathbf{T}_{sw} \\mathbf{p}_w)}{\\partial \\delta \\xi}\\\\ & = \\lim _{\\delta \\xi \\rightarrow 0} \\frac{\\exp \\left(\\delta \\xi^{\\wedge}\\right) \\exp \\left(\\xi^{\\wedge}\\right) \\mathbf{p}_w-\\exp \\left(\\xi^{\\wedge}\\right) \\mathbf{p}_w}{\\delta \\xi}\\\\ & = \\left[\\begin{array}{cc}\\mathbf{I}_{3 \\times 3} & -(\\mathbf{R}_{sw} \\mathbf{p}_w+\\mathbf{t}_{sw})_{3 \\times 3}^{\\wedge} \\\\\\mathbf{0}_{1 \\times 3}^{T} & \\mathbf{0}_{1 \\times 3}^{T}\\end{array}\\right] \\\\ & = \\left[\\begin{array}{cc}\\mathbf{I}_{3 \\times 3} & -\\left \\lfloor \\mathbf{p}_s \\right \\rfloor_{3 \\times 3}^{\\wedge} \\\\\\mathbf{0}_{1 \\times 3}^{T} & \\mathbf{0}_{1 \\times 3}^{T}\\end{array}\\right] \\end{align}$$\n",
    "注意：在这里，$\\mathbf{p}_s和\\mathbf{p}_w$为齐次坐标，因为我们用到了齐次变换矩阵。\n",
    "若$\\mathbf{p}_s$为非齐次坐标形式，则\n",
    "$$\\frac{\\partial \\mathbf{p}_{s} }{\\partial \\delta \\xi} =\\left[\\begin{array}{cc}\\mathbf{I}_{3 \\times 3} & -\\left\\lfloor\\mathbf{p}_{s}\\right\\rfloor_{3 \\times 3}\\end{array}\\right]$$\n",
    "故\n",
    "$$\\begin{align}\\frac{\\partial \\mathbf{r}}{\\partial \\mathbf{\\xi}} & = \\frac{\\partial \\mathbf{p}^d_p}{\\partial \\mathbf{p}_{n}} \\frac{\\partial \\mathbf{p}_n}{\\partial \\mathbf{p}_{s}} \\frac{\\partial \\mathbf{p}_s}{\\partial \\mathbf{\\xi}}\\\\&=\\left[\\begin{matrix}\\alpha_{x} \\left(k_{1} r_{n}^{2} + k_{2} r_{n}^{4} + 2 p_{1} y_{n} + 4 p_{2} x_{n} + 1\\right) & 2 \\alpha_{x} p_{1} x_{n}\\\\2 \\alpha_{y} p_{2} y_{n} & \\alpha_{y} \\left(k_{1} r_{n}^{2} + k_{2} r_{n}^{4} + 4 p_{1} y_{n} + 2 p_{2} x_{n} + 1\\right)\\end{matrix}\\right]\\\\&\\ \\ \\  \\cdot  \\left[\\begin{matrix}\\frac{1}{z_{s}} & 0 & - \\frac{x_{s}}{z_{s}^{2}}\\\\0 & \\frac{1}{z_{s}} & - \\frac{y_{s}}{z_{s}^{2}}\\end{matrix}\\right] \\\\&\\ \\ \\  \\cdot \\left[\\begin{array}{cc}\\mathbf{I}_{3 \\times 3} & -\\left\\lfloor\\mathbf{p}_{s}\\right\\rfloor_{3 \\times 3}\\end{array}\\right]\\end{align}$$"
   ]
  },
  {
   "cell_type": "markdown",
   "id": "b007d022",
   "metadata": {},
   "source": [
    "下面推导$\\frac{\\partial \\mathbf{r}}{\\partial \\mathbf{p}_w}$:\n",
    "由于$\\frac{\\partial \\mathbf{p}_s}{\\partial \\mathbf{P}_w}=\\mathbf{R}_{sw} = Exp(\\phi)$，\n",
    "则$$\\begin{align}\\frac{\\partial \\mathbf{r}}{\\partial \\mathbf{\\xi}} \n",
    "& = \\frac{\\partial \\mathbf{p}^d_p}{\\partial \\mathbf{p}_{n}} \\frac{\\partial \\mathbf{p}_n}{\\partial \\mathbf{p}_{s}} \\frac{\\partial \\mathbf{p}_s}{\\partial \\mathbf{p}_w}\\\\\n",
    "&=\\left[\\begin{matrix}\\alpha_{x} \\left(k_{1} r_{n}^{2} + k_{2} r_{n}^{4} + 2 p_{1} y_{n} + 4 p_{2} x_{n} + 1\\right) & 2 \\alpha_{x} p_{1} x_{n}\\\\2 \\alpha_{y} p_{2} y_{n} & \\alpha_{y} \\left(k_{1} r_{n}^{2} + k_{2} r_{n}^{4} + 4 p_{1} y_{n} + 2 p_{2} x_{n} + 1\\right)\\end{matrix}\\right]\\\\&\\ \\ \\  \\cdot  \\left[\\begin{matrix}\\frac{1}{z_{s}} & 0 & - \\frac{x_{s}}{z_{s}^{2}}\\\\0 & \\frac{1}{z_{s}} & - \\frac{y_{s}}{z_{s}^{2}}\\end{matrix}\\right] \\\\&\\ \\ \\  \n",
    "\\cdot \n",
    "\\mathbf{R}_{sw}\n",
    "\\end{align}$$"
   ]
  }
 ],
 "metadata": {
  "celltoolbar": "Raw Cell Format",
  "kernelspec": {
   "display_name": "Python 3 (ipykernel)",
   "language": "python",
   "name": "python3"
  },
  "language_info": {
   "codemirror_mode": {
    "name": "ipython",
    "version": 3
   },
   "file_extension": ".py",
   "mimetype": "text/x-python",
   "name": "python",
   "nbconvert_exporter": "python",
   "pygments_lexer": "ipython3",
   "version": "3.9.15"
  }
 },
 "nbformat": 4,
 "nbformat_minor": 5
}
